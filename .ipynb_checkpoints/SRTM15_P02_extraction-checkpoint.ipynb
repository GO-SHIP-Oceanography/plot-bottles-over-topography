{
 "cells": [
  {
   "cell_type": "markdown",
   "id": "be3f641c-4044-4d5e-988a-45fb75551637",
   "metadata": {},
   "source": [
    "This code extract P02 regions from the SRTM15_V2.3.nc from FTP SRTM15+ and source identification (SID) [https://topex.ucsd.edu/WWW_html/srtm15_plus.html]\n"
   ]
  },
  {
   "cell_type": "code",
   "execution_count": 1,
   "id": "4ece7621-5cb9-4abf-aa01-422561c4daa9",
   "metadata": {},
   "outputs": [],
   "source": [
    "%matplotlib inline\n",
    "import numpy as np\n",
    "import xarray as xr\n",
    "import pandas as pd\n",
    "import matplotlib.pyplot as plt"
   ]
  },
  {
   "cell_type": "markdown",
   "id": "06af4ffc-ad8f-4d1f-99b5-9f2f8b9a037f",
   "metadata": {},
   "source": [
    "- read 15sec Smith & Sandwell topography data, and extract North Pacific region data & save to .nc, make lon 0:360"
   ]
  },
  {
   "cell_type": "code",
   "execution_count": 2,
   "id": "8ad3fb73-41ef-4e70-9b5b-60c77cf7c9bb",
   "metadata": {},
   "outputs": [],
   "source": [
    "datafilepath = \"./other_data/\"\n",
    "with xr.open_dataset(datafilepath+\"SRTM15_V2.3.nc\") as ds:\n",
    "    print(ds.keys())\n"
   ]
  },
  {
   "cell_type": "code",
   "execution_count": 3,
   "id": "d4f993b4-d035-4265-931e-4e19b2a8b42a",
   "metadata": {},
   "outputs": [],
   "source": [
    "ds_lon = ds.lon.data.copy()\n",
    "ds_lon[ds_lon<0] += 360\n",
    "idx_ds_lon = np.argsort(ds_lon)"
   ]
  },
  {
   "cell_type": "code",
   "execution_count": 4,
   "id": "fb3d8e37-97c9-4c53-b678-94e4cb415421",
   "metadata": {},
   "outputs": [],
   "source": [
    "region = np.array([10.0, 45.0 ,120, -110]) # study region\n",
    "\n",
    "msk_lat = (ds.lat.data > region[0]) & (ds.lat.data < region[1])\n",
    "if region[2] or region[-1]<0:\n",
    "    region[2::][region[2::]<0] += 360\n",
    "msk_lon = (ds_lon[idx_ds_lon] > region[2]) & (ds_lon[idx_ds_lon] < region[-1])"
   ]
  },
  {
   "cell_type": "code",
   "execution_count": 5,
   "id": "738325ec-8b0c-4b92-8daa-baab5fa49035",
   "metadata": {},
   "outputs": [],
   "source": [
    "ds_P02 = xr.Dataset({'z': (['lat', 'lon'], ds.z.data[msk_lat, :][:, idx_ds_lon][:, msk_lon])},\n",
    "                  coords={'lon': ds_lon[idx_ds_lon][msk_lon],\n",
    "                          'lat': ds.lat.data[msk_lat]},\n",
    "                  attrs={'title': 'P02 region topography',\n",
    "                         'description': 'SRTM15_V2.3',\n",
    "                         'GMT_version': ds.GMT_version,\n",
    "                         'history': ds.history})\n",
    "ds_P02.to_netcdf(datafilepath+\"P01_topo_15s.nc\")"
   ]
  },
  {
   "cell_type": "code",
   "execution_count": 6,
   "id": "660473e4-f090-4087-9d1c-2ea903af3a12",
   "metadata": {},
   "outputs": [],
   "source": [
    "with xr.open_dataset(datafilepath+\"P01_topo_15s.nc\") as ds_P02:\n",
    "    print(ds_P02.keys())\n",
    "\n",
    "lon_ = ds_P02.lon.data.copy()\n",
    "lon_[lon_>180] -= 360\n",
    "ds_P02 = xr.Dataset({'z': (['lat', 'lon'], ds_P02.z.data)},\n",
    "                  coords={'lon': lon_,\n",
    "                          'lat': ds_P02.lat.data},\n",
    "                  attrs={'title': 'P02 region topography',\n",
    "                         'description': 'SRTM15_V2.3',\n",
    "                         'GMT_version': ds.GMT_version,\n",
    "                         'history': ds.history})\n",
    "ds_P02.to_netcdf(datafilepath+\"P01_topo_15s_neglon.nc\")"
   ]
  },
  {
   "cell_type": "code",
   "execution_count": null,
   "id": "03321c39-cfbe-485d-b5e3-27f3d3c21143",
   "metadata": {},
   "outputs": [],
   "source": []
  }
 ],
 "metadata": {
  "kernelspec": {
   "display_name": "goship",
   "language": "python",
   "name": "goship"
  },
  "language_info": {
   "codemirror_mode": {
    "name": "ipython",
    "version": 3
   },
   "file_extension": ".py",
   "mimetype": "text/x-python",
   "name": "python",
   "nbconvert_exporter": "python",
   "pygments_lexer": "ipython3",
   "version": "3.9.6"
  }
 },
 "nbformat": 4,
 "nbformat_minor": 5
}
